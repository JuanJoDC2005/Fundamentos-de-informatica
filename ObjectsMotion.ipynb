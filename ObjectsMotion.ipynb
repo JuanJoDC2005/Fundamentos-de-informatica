{
 "cells": [
  {
   "cell_type": "code",
   "execution_count": null,
   "metadata": {},
   "outputs": [],
   "source": [
    "def analyze_motion():\n",
    "    print(\"Motion Analysis of an Object\")\n",
    "    try:\n",
    "        initial_position = float(input(\"Enter the initial position (x0) in meters: \"))\n",
    "        initial_velocity = float(input(\"Enter the initial velocity (v0) in meters per second: \"))\n",
    "        acceleration = float(input(\"Enter the acceleration (a) in meters per second squared: \"))\n",
    "        time = float(input(\"Enter the time (t) in seconds: \"))\n",
    "\n",
    "       \n",
    "        final_position = initial_position + initial_velocity * time + 0.5 * acceleration * time ** 2\n",
    "        \n",
    " \n",
    "        final_velocity = initial_velocity + acceleration * time\n",
    "        \n",
    "      \n",
    "        print(f\"\\nResults:\")\n",
    "        print(f\"Final Position (x): {final_position:.2f} meters\")\n",
    "        print(f\"Final Velocity (v): {final_velocity:.2f} meters/second\")\n",
    "        print(f\"Acceleration (a): {acceleration:.2f} meters/second²\")\n",
    "    \n",
    "    except ValueError:\n",
    "        print(\"Please enter valid numerical values.\")\n",
    "\n",
    "if __name__ == \"__main__\":\n",
    "    analyze_motion()\n"
   ]
  }
 ],
 "metadata": {
  "language_info": {
   "name": "python"
  }
 },
 "nbformat": 4,
 "nbformat_minor": 2
}
