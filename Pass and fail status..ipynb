{
 "cells": [
  {
   "cell_type": "code",
   "execution_count": null,
   "metadata": {},
   "outputs": [],
   "source": [
    "def evaluate_student_status(exam_score, total_classes, attended_classes):\n",
    "    # Criteria for passing\n",
    "    passing_score = 70\n",
    "    attendance_threshold = 0.8  # 80%\n",
    "\n",
    " \n",
    "    if exam_score >= passing_score:\n",
    "        score_status = True\n",
    "    else:\n",
    "        score_status = False\n",
    "\n",
    "    # Check attendance\n",
    "    attendance_rate = attended_classes / total_classes\n",
    "    if attendance_rate >= attendance_threshold:\n",
    "        attendance_status = True\n",
    "    else:\n",
    "        attendance_status = False\n",
    "\n",
    "    # Pass/fail status\n",
    "    if score_status and attendance_status:\n",
    "        return \"Pass\"\n",
    "    else:\n",
    "        return \"Fail\"\n",
    "\n",
    "def main():\n",
    "\n",
    "    exam_score = float(input(\"Enter exam score (0-100, default is 75): \") or 75)\n",
    "    total_classes = int(input(\"Enter total number of classes (default is 40): \") or 40)\n",
    "    attended_classes = int(input(\"Enter number of classes attended (default is 32): \") or 32)\n",
    "\n",
    "\n",
    "    result = evaluate_student_status(exam_score, total_classes, attended_classes)\n",
    "    print(f\"The student's status is: {result}\")\n",
    "\n",
    "if __name__ == \"__main__\":\n",
    "    main()\n"
   ]
  }
 ],
 "metadata": {
  "language_info": {
   "name": "python"
  }
 },
 "nbformat": 4,
 "nbformat_minor": 2
}
